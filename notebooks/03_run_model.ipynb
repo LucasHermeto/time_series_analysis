{
 "cells": [
  {
   "attachments": {},
   "cell_type": "markdown",
   "metadata": {},
   "source": [
    "# Execução do modelo"
   ]
  },
  {
   "cell_type": "code",
   "execution_count": 1,
   "metadata": {},
   "outputs": [],
   "source": [
    "import pandas as pd\n",
    "\n",
    "from sklearn.ensemble import RandomForestRegressor\n",
    "from xgboost import XGBRegressor"
   ]
  },
  {
   "cell_type": "code",
   "execution_count": 2,
   "metadata": {},
   "outputs": [],
   "source": [
    "import sys\n",
    "\n",
    "sys.path.insert(0, '../src')\n",
    "from models.time_series_model import TimeSeriesModel"
   ]
  },
  {
   "attachments": {},
   "cell_type": "markdown",
   "metadata": {},
   "source": [
    "## Inicializando parâmetros"
   ]
  },
  {
   "cell_type": "code",
   "execution_count": 3,
   "metadata": {},
   "outputs": [],
   "source": [
    "ALL_DATAFRAMES_STR = [\n",
    "    'model'\n",
    "]\n",
    "\n",
    "LABEL_STR = 'qt_sales'\n",
    "\n",
    "INDEX_COLUMNS = ['PRODUCTCODE', 'YEAR_MONTH']\n",
    "\n",
    "START_DATE = '2003-01-01'\n",
    "END_DATE = '2005-01-01'\n",
    "\n",
    "FEATURES = [\n",
    "    'qt_sales_lag_1',\n",
    "    'qt_sales_lag_2',\n",
    "    'qt_sales_lag_3',\n",
    "    'qt_sales_lag_4',\n",
    "    'qt_sales_lag_5',\n",
    "    'qt_sales_lag_6',\n",
    "    'qt_sales_mavg_3',\n",
    "    'qt_sales_mavg_6'\n",
    "]\n",
    "\n",
    "ALL_MODELS_PARAMS = {\n",
    "    'xgboost': {\n",
    "        'model': XGBRegressor(\n",
    "            n_estimators=1000,\n",
    "            random_state=42\n",
    "        ),\n",
    "        'scaler': False,\n",
    "        'encoded': False\n",
    "    },\n",
    "    'random_forest': {\n",
    "        'model': RandomForestRegressor(random_state=42),\n",
    "        'scaler': False,\n",
    "        'encoded': False\n",
    "    }\n",
    "}\n"
   ]
  },
  {
   "cell_type": "code",
   "execution_count": 10,
   "metadata": {},
   "outputs": [
    {
     "name": "stdout",
     "output_type": "stream",
     "text": [
      "Running Models\n",
      "Training model: xgboost\n"
     ]
    },
    {
     "name": "stderr",
     "output_type": "stream",
     "text": [
      "/Users/lucashermeto/Library/CloudStorage/OneDrive-Personal/Documentos/codes/time_series_analysis/.venv/lib/python3.10/site-packages/xgboost/data.py:335: FutureWarning: is_sparse is deprecated and will be removed in a future version. Check `isinstance(dtype, pd.SparseDtype)` instead.\n",
      "  if is_sparse(dtype):\n",
      "/Users/lucashermeto/Library/CloudStorage/OneDrive-Personal/Documentos/codes/time_series_analysis/.venv/lib/python3.10/site-packages/xgboost/data.py:338: FutureWarning: is_categorical_dtype is deprecated and will be removed in a future version. Use isinstance(dtype, CategoricalDtype) instead\n",
      "  is_categorical_dtype(dtype) or is_pa_ext_categorical_dtype(dtype)\n",
      "/Users/lucashermeto/Library/CloudStorage/OneDrive-Personal/Documentos/codes/time_series_analysis/.venv/lib/python3.10/site-packages/xgboost/data.py:384: FutureWarning: is_categorical_dtype is deprecated and will be removed in a future version. Use isinstance(dtype, CategoricalDtype) instead\n",
      "  if is_categorical_dtype(dtype):\n",
      "/Users/lucashermeto/Library/CloudStorage/OneDrive-Personal/Documentos/codes/time_series_analysis/.venv/lib/python3.10/site-packages/xgboost/data.py:359: FutureWarning: is_categorical_dtype is deprecated and will be removed in a future version. Use isinstance(dtype, CategoricalDtype) instead\n",
      "  return is_int or is_bool or is_float or is_categorical_dtype(dtype)\n",
      "/Users/lucashermeto/Library/CloudStorage/OneDrive-Personal/Documentos/codes/time_series_analysis/.venv/lib/python3.10/site-packages/xgboost/data.py:520: FutureWarning: is_sparse is deprecated and will be removed in a future version. Check `isinstance(dtype, pd.SparseDtype)` instead.\n",
      "  if is_sparse(data):\n",
      "/Users/lucashermeto/Library/CloudStorage/OneDrive-Personal/Documentos/codes/time_series_analysis/.venv/lib/python3.10/site-packages/xgboost/data.py:335: FutureWarning: is_sparse is deprecated and will be removed in a future version. Check `isinstance(dtype, pd.SparseDtype)` instead.\n",
      "  if is_sparse(dtype):\n",
      "/Users/lucashermeto/Library/CloudStorage/OneDrive-Personal/Documentos/codes/time_series_analysis/.venv/lib/python3.10/site-packages/xgboost/data.py:338: FutureWarning: is_categorical_dtype is deprecated and will be removed in a future version. Use isinstance(dtype, CategoricalDtype) instead\n",
      "  is_categorical_dtype(dtype) or is_pa_ext_categorical_dtype(dtype)\n",
      "/Users/lucashermeto/Library/CloudStorage/OneDrive-Personal/Documentos/codes/time_series_analysis/.venv/lib/python3.10/site-packages/xgboost/data.py:384: FutureWarning: is_categorical_dtype is deprecated and will be removed in a future version. Use isinstance(dtype, CategoricalDtype) instead\n",
      "  if is_categorical_dtype(dtype):\n",
      "/Users/lucashermeto/Library/CloudStorage/OneDrive-Personal/Documentos/codes/time_series_analysis/.venv/lib/python3.10/site-packages/xgboost/data.py:359: FutureWarning: is_categorical_dtype is deprecated and will be removed in a future version. Use isinstance(dtype, CategoricalDtype) instead\n",
      "  return is_int or is_bool or is_float or is_categorical_dtype(dtype)\n",
      "/Users/lucashermeto/Library/CloudStorage/OneDrive-Personal/Documentos/codes/time_series_analysis/.venv/lib/python3.10/site-packages/xgboost/data.py:335: FutureWarning: is_sparse is deprecated and will be removed in a future version. Check `isinstance(dtype, pd.SparseDtype)` instead.\n",
      "  if is_sparse(dtype):\n",
      "/Users/lucashermeto/Library/CloudStorage/OneDrive-Personal/Documentos/codes/time_series_analysis/.venv/lib/python3.10/site-packages/xgboost/data.py:338: FutureWarning: is_categorical_dtype is deprecated and will be removed in a future version. Use isinstance(dtype, CategoricalDtype) instead\n",
      "  is_categorical_dtype(dtype) or is_pa_ext_categorical_dtype(dtype)\n",
      "/Users/lucashermeto/Library/CloudStorage/OneDrive-Personal/Documentos/codes/time_series_analysis/.venv/lib/python3.10/site-packages/xgboost/data.py:384: FutureWarning: is_categorical_dtype is deprecated and will be removed in a future version. Use isinstance(dtype, CategoricalDtype) instead\n",
      "  if is_categorical_dtype(dtype):\n",
      "/Users/lucashermeto/Library/CloudStorage/OneDrive-Personal/Documentos/codes/time_series_analysis/.venv/lib/python3.10/site-packages/xgboost/data.py:359: FutureWarning: is_categorical_dtype is deprecated and will be removed in a future version. Use isinstance(dtype, CategoricalDtype) instead\n",
      "  return is_int or is_bool or is_float or is_categorical_dtype(dtype)\n",
      "/Users/lucashermeto/Library/CloudStorage/OneDrive-Personal/Documentos/codes/time_series_analysis/notebooks/../src/models/time_series_model.py:52: FutureWarning: The behavior of DataFrame concatenation with empty or all-NA entries is deprecated. In a future version, this will no longer exclude empty or all-NA columns when determining the result dtypes. To retain the old behavior, exclude the relevant entries before the concat operation.\n",
      "  self.df_all_predictions = pd.concat([\n"
     ]
    },
    {
     "name": "stdout",
     "output_type": "stream",
     "text": [
      "-----------------------------------------------------------\n",
      "Training model: random_forest\n",
      "-----------------------------------------------------------\n",
      "Saving all models\n",
      "Model ../models/2023_10_15/model/trained/xgboost.pickle saved.\n",
      "Model ../models/2023_10_15/model/trained/random_forest.pickle saved.\n",
      "Saving features\n",
      "Saving all models prediction\n",
      "Trying to save as parquet\n",
      "File ../models/2023_10_15/model/predictions/df_all_predictions.parquet saved.\n",
      "Success!\n"
     ]
    }
   ],
   "source": [
    "for dataframe_str in ALL_DATAFRAMES_STR:\n",
    "    df = pd.read_parquet(f'../data/temp/df_{dataframe_str}.parquet')\n",
    "\n",
    "    model_class = TimeSeriesModel(dataframe_str, df, LABEL_STR,\n",
    "        ALL_MODELS_PARAMS, INDEX_COLUMNS, all_features=FEATURES)\n",
    "    model_class.execute(min=START_DATE, max=END_DATE)\n"
   ]
  }
 ],
 "metadata": {
  "kernelspec": {
   "display_name": "base",
   "language": "python",
   "name": "python3"
  },
  "language_info": {
   "codemirror_mode": {
    "name": "ipython",
    "version": 3
   },
   "file_extension": ".py",
   "mimetype": "text/x-python",
   "name": "python",
   "nbconvert_exporter": "python",
   "pygments_lexer": "ipython3",
   "version": "3.10.12"
  },
  "orig_nbformat": 4,
  "vscode": {
   "interpreter": {
    "hash": "ad2bdc8ecc057115af97d19610ffacc2b4e99fae6737bb82f5d7fb13d2f2c186"
   }
  }
 },
 "nbformat": 4,
 "nbformat_minor": 2
}
