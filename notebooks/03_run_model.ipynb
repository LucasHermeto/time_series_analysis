{
 "cells": [
  {
   "attachments": {},
   "cell_type": "markdown",
   "metadata": {},
   "source": [
    "# Execução do modelo"
   ]
  },
  {
   "cell_type": "code",
   "execution_count": 1,
   "metadata": {},
   "outputs": [],
   "source": [
    "import matplotlib.pyplot as plt\n",
    "import pandas as pd\n",
    "import pickle\n",
    "\n",
    "from sklearn.ensemble import RandomForestRegressor\n",
    "from xgboost import XGBRegressor\n",
    "\n",
    "\n",
    "plt.style.use('fivethirtyeight')"
   ]
  },
  {
   "cell_type": "code",
   "execution_count": 2,
   "metadata": {},
   "outputs": [],
   "source": [
    "import sys\n",
    "\n",
    "sys.path.insert(0, '../src')\n",
    "from models.time_series_model import TimeSeriesModel"
   ]
  },
  {
   "attachments": {},
   "cell_type": "markdown",
   "metadata": {},
   "source": [
    "## Inicializando parâmetros"
   ]
  },
  {
   "cell_type": "code",
   "execution_count": 3,
   "metadata": {},
   "outputs": [],
   "source": [
    "ALL_DATAFRAMES_STR = [\n",
    "    'model'\n",
    "]\n",
    "\n",
    "LABEL_STR = 'qt_sales'\n",
    "\n",
    "COLUMNS_INDEX = ['StockCode', 'dt_year_month']\n",
    "\n",
    "FEATURES = [\n",
    "    'qt_sales_lag_1',\n",
    "    'qt_sales_lag_2',\n",
    "    'qt_sales_lag_3',\n",
    "    'qt_sales_lag_4',\n",
    "    'qt_sales_lag_5',\n",
    "    'qt_sales_lag_6',\n",
    "    'qt_sales_mavg_3',\n",
    "    'qt_sales_mavg_6'\n",
    "]\n",
    "\n",
    "ALL_MODELS_PARAMS = {\n",
    "    'xgboost': {\n",
    "        'model': XGBRegressor(\n",
    "            n_estimators=1000,\n",
    "            random_state=42\n",
    "        ),\n",
    "        'scaler': False,\n",
    "        'encoded': False\n",
    "    },\n",
    "    'random_forest': {\n",
    "        'model': RandomForestRegressor(random_state=42),\n",
    "        'scaler': False,\n",
    "        'encoded': False\n",
    "    }\n",
    "}\n"
   ]
  },
  {
   "cell_type": "code",
   "execution_count": 4,
   "metadata": {},
   "outputs": [
    {
     "name": "stdout",
     "output_type": "stream",
     "text": [
      "Running Models\n",
      "Training model: xgboost\n",
      "-----------------------------------------------------------\n",
      "Training model: random_forest\n",
      "-----------------------------------------------------------\n",
      "Saving all models\n",
      "Model ../models/2023_01_26/model/trained/xgboost.pickle saved.\n",
      "Model ../models/2023_01_26/model/trained/random_forest.pickle saved.\n",
      "Saving features\n",
      "Saving all models prediction\n",
      "Trying to save as parquet\n",
      "File ../models/2023_01_26/model/predictions/df_all_predictions.parquet saved.\n",
      "Success!\n"
     ]
    }
   ],
   "source": [
    "for dataframe_str in ALL_DATAFRAMES_STR:\n",
    "    df = pd.read_parquet(f'../data/temp/df_{dataframe_str}.parquet')\n",
    "\n",
    "    model_class = TimeSeriesModel(dataframe_str, df, LABEL_STR,\n",
    "        ALL_MODELS_PARAMS, COLUMNS_INDEX, all_features=FEATURES)\n",
    "    model_class.execute(min='2009-12-01', max='2010-12-01')\n"
   ]
  },
  {
   "attachments": {},
   "cell_type": "markdown",
   "metadata": {},
   "source": [
    "## Calculando erro do modelo\n",
    "\n",
    "WAPE: Métrica para calcular previsão de séries temporais, calcula o quão próximo a previsão está do valor original. É um indicador que vai de 0 até o infinito e quanto maior o valor, pior a previsão.\n",
    "\n",
    "\n",
    "$WAPE = \\frac{\\sum_{t=1}^{n}{|A_t - F_t|}}{\\sum_{t=1}^{n}{|A_t|}},$\n",
    "\n",
    "onde $A_t$ é o valor real e $F_t$ o valor previsto"
   ]
  },
  {
   "attachments": {},
   "cell_type": "markdown",
   "metadata": {},
   "source": [
    "### Baseline"
   ]
  },
  {
   "cell_type": "code",
   "execution_count": 5,
   "metadata": {},
   "outputs": [],
   "source": [
    "df_baseline = df[['StockCode', 'dt_year_month',\n",
    "                  'qt_sales', 'qt_sales_mavg_6']].copy()\n",
    "df_baseline.loc[df_baseline['dt_year_month']\n",
    "                < '2010-11-01', 'cd_sample'] = 'train'\n",
    "df_baseline.loc[\n",
    "    (df_baseline['dt_year_month'] >= '2010-11-01') &\n",
    "    (df_baseline['dt_year_month'] < '2010-12-01'), 'cd_sample'] = 'test'\n",
    "df_baseline.loc[:, 'cd_model'] = 'moving_avg_6'\n",
    "\n",
    "df_baseline.rename(columns={\n",
    "    'qt_sales': 'nu_label',\n",
    "    'qt_sales_mavg_6': 'nu_predict'\n",
    "}, inplace=True)\n"
   ]
  },
  {
   "cell_type": "code",
   "execution_count": 11,
   "metadata": {},
   "outputs": [],
   "source": [
    "df_all_predictions = pd.read_parquet('../models/2023_01_26/model/predictions/df_all_predictions.parquet')\n",
    "df_all_predictions = pd.concat([df_all_predictions, df_baseline])"
   ]
  },
  {
   "cell_type": "code",
   "execution_count": 12,
   "metadata": {},
   "outputs": [],
   "source": [
    "def get_wape(df, groupby=['cd_model', 'cd_sample']):\n",
    "    df_errors = df.copy()\n",
    "\n",
    "    df_errors['nu_diff'] = (\n",
    "        df_errors['nu_label'] - df_errors['nu_predict']\n",
    "    ).abs()\n",
    "    df_errors['nu_label'] = df_errors['nu_label'].abs()\n",
    "\n",
    "    df_errors = df_errors.groupby(groupby).agg(\n",
    "        nu_diff=('nu_diff', 'sum'),\n",
    "        nu_label=('nu_label', 'sum')\n",
    "    )\n",
    "    df_errors['nu_wape'] = df_errors['nu_diff']/df_errors['nu_label']\n",
    "    \n",
    "    return df_errors[['nu_wape']]\n"
   ]
  },
  {
   "cell_type": "code",
   "execution_count": 13,
   "metadata": {},
   "outputs": [
    {
     "data": {
      "text/html": [
       "<div>\n",
       "<style scoped>\n",
       "    .dataframe tbody tr th:only-of-type {\n",
       "        vertical-align: middle;\n",
       "    }\n",
       "\n",
       "    .dataframe tbody tr th {\n",
       "        vertical-align: top;\n",
       "    }\n",
       "\n",
       "    .dataframe thead th {\n",
       "        text-align: right;\n",
       "    }\n",
       "</style>\n",
       "<table border=\"1\" class=\"dataframe\">\n",
       "  <thead>\n",
       "    <tr style=\"text-align: right;\">\n",
       "      <th></th>\n",
       "      <th></th>\n",
       "      <th>nu_wape</th>\n",
       "    </tr>\n",
       "    <tr>\n",
       "      <th>cd_model</th>\n",
       "      <th>cd_sample</th>\n",
       "      <th></th>\n",
       "    </tr>\n",
       "  </thead>\n",
       "  <tbody>\n",
       "    <tr>\n",
       "      <th rowspan=\"2\" valign=\"top\">moving_avg_6</th>\n",
       "      <th>test</th>\n",
       "      <td>0.595271</td>\n",
       "    </tr>\n",
       "    <tr>\n",
       "      <th>train</th>\n",
       "      <td>0.774969</td>\n",
       "    </tr>\n",
       "    <tr>\n",
       "      <th rowspan=\"2\" valign=\"top\">random_forest</th>\n",
       "      <th>test</th>\n",
       "      <td>0.592985</td>\n",
       "    </tr>\n",
       "    <tr>\n",
       "      <th>train</th>\n",
       "      <td>0.434795</td>\n",
       "    </tr>\n",
       "    <tr>\n",
       "      <th rowspan=\"2\" valign=\"top\">xgboost</th>\n",
       "      <th>test</th>\n",
       "      <td>0.665285</td>\n",
       "    </tr>\n",
       "    <tr>\n",
       "      <th>train</th>\n",
       "      <td>0.296642</td>\n",
       "    </tr>\n",
       "  </tbody>\n",
       "</table>\n",
       "</div>"
      ],
      "text/plain": [
       "                          nu_wape\n",
       "cd_model      cd_sample          \n",
       "moving_avg_6  test       0.595271\n",
       "              train      0.774969\n",
       "random_forest test       0.592985\n",
       "              train      0.434795\n",
       "xgboost       test       0.665285\n",
       "              train      0.296642"
      ]
     },
     "execution_count": 13,
     "metadata": {},
     "output_type": "execute_result"
    }
   ],
   "source": [
    "get_wape(df_all_predictions)"
   ]
  },
  {
   "cell_type": "code",
   "execution_count": 19,
   "metadata": {},
   "outputs": [
    {
     "data": {
      "image/png": "[encoded data removed]",
      "text/plain": [
       "<Figure size 432x288 with 1 Axes>"
      ]
     },
     "metadata": {},
     "output_type": "display_data"
    },
    {
     "data": {
      "image/png": "[encoded data removed]",
      "text/plain": [
       "<Figure size 432x288 with 1 Axes>"
      ]
     },
     "metadata": {},
     "output_type": "display_data"
    }
   ],
   "source": [
    "df_all_predictions[\n",
    "    (df_all_predictions['StockCode'] == 90214) &\n",
    "    (df_all_predictions['cd_model'] == 'random_forest')\n",
    "].set_index('dt_year_month')['nu_predict'].plot(legend=True)\n",
    "df_all_predictions[\n",
    "    (df_all_predictions['StockCode'] == 90214) &\n",
    "    (df_all_predictions['cd_model'] == 'random_forest')\n",
    "].set_index('dt_year_month')['nu_label'].plot(legend=True)\n",
    "\n",
    "plt.show()\n",
    "\n",
    "df_all_predictions[\n",
    "    (df_all_predictions['StockCode'] == 10124) &\n",
    "    (df_all_predictions['cd_model'] == 'random_forest')\n",
    "].set_index('dt_year_month')['nu_predict'].plot(legend=True)\n",
    "df_all_predictions[\n",
    "    (df_all_predictions['StockCode'] == 10124) &\n",
    "    (df_all_predictions['cd_model'] == 'random_forest')\n",
    "].set_index('dt_year_month')['nu_label'].plot(legend=True)\n",
    "\n",
    "plt.show()\n"
   ]
  },
  {
   "cell_type": "code",
   "execution_count": 15,
   "metadata": {},
   "outputs": [
    {
     "data": {
      "text/plain": [
       "{'features': ['qt_sales_lag_1',\n",
       "  'qt_sales_lag_2',\n",
       "  'qt_sales_lag_3',\n",
       "  'qt_sales_lag_4',\n",
       "  'qt_sales_lag_5',\n",
       "  'qt_sales_lag_6',\n",
       "  'qt_sales_mavg_3',\n",
       "  'qt_sales_mavg_6'],\n",
       " 'index_cols': ['StockCode', 'dt_year_month'],\n",
       " 'feature_importance': {'xgboost': {'qt_sales_mavg_3': 0.3672722,\n",
       "   'qt_sales_lag_1': 0.14505334,\n",
       "   'qt_sales_lag_4': 0.10685167,\n",
       "   'qt_sales_lag_2': 0.10138771,\n",
       "   'qt_sales_lag_3': 0.08836022,\n",
       "   'qt_sales_mavg_6': 0.08027746,\n",
       "   'qt_sales_lag_5': 0.06368071,\n",
       "   'qt_sales_lag_6': 0.047116686},\n",
       "  'random_forest': {'qt_sales_mavg_3': 0.28229347980946595,\n",
       "   'qt_sales_lag_1': 0.28051856152866056,\n",
       "   'qt_sales_lag_2': 0.12672923860247776,\n",
       "   'qt_sales_mavg_6': 0.11587175220659994,\n",
       "   'qt_sales_lag_3': 0.08057897538952576,\n",
       "   'qt_sales_lag_4': 0.0565655457534619,\n",
       "   'qt_sales_lag_5': 0.03680940401705059,\n",
       "   'qt_sales_lag_6': 0.020633042692757612}}}"
      ]
     },
     "execution_count": 15,
     "metadata": {},
     "output_type": "execute_result"
    }
   ],
   "source": [
    "all_features = pd.read_pickle('../models/2023_01_25/model/features.pickle')\n",
    "all_features"
   ]
  },
  {
   "attachments": {},
   "cell_type": "markdown",
   "metadata": {},
   "source": [
    "## Features Futuras"
   ]
  },
  {
   "attachments": {},
   "cell_type": "markdown",
   "metadata": {},
   "source": [
    "- **Cross Validation:** Para realizar cross validation em séries temporais devemos fazer um split train e test e posteriormente pegar amostras do treino, sempre aumentando o tamanho em relação ao tempo. Tomar cuidado em relação aos vários produtos. \n",
    "- **Cadeia de Markov:** Probabilidade de um evento acontecer dado um evento anterior, não importando a sequência anterior dos eventos\n",
    "$$P(X_{n+1} = x | X_0, X_1, X_2, ..., X_n) = P(X_{n+1} = x | X_n)$$\n",
    "\n",
    "- **Modelo Ensemble:** Utilizar a previsão de modelos estatísticos como ARIMA, SARIMA e suas variações ou até mesmo o Prophet para adicionar mais informações como sazonalidade e estacionaridade para o modelo de ML."
   ]
  },
  {
   "cell_type": "markdown",
   "metadata": {},
   "source": []
  }
 ],
 "metadata": {
  "kernelspec": {
   "display_name": "base",
   "language": "python",
   "name": "python3"
  },
  "language_info": {
   "codemirror_mode": {
    "name": "ipython",
    "version": 3
   },
   "file_extension": ".py",
   "mimetype": "text/x-python",
   "name": "python",
   "nbconvert_exporter": "python",
   "pygments_lexer": "ipython3",
   "version": "3.8.3"
  },
  "orig_nbformat": 4,
  "vscode": {
   "interpreter": {
    "hash": "ad2bdc8ecc057115af97d19610ffacc2b4e99fae6737bb82f5d7fb13d2f2c186"
   }
  }
 },
 "nbformat": 4,
 "nbformat_minor": 2
}
