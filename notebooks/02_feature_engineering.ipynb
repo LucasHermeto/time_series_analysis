{
 "cells": [
  {
   "attachments": {},
   "cell_type": "markdown",
   "metadata": {},
   "source": [
    "# Feature Engineering"
   ]
  },
  {
   "attachments": {},
   "cell_type": "markdown",
   "metadata": {},
   "source": [
    "## To do's\n",
    "- Apply filters\n",
    "    - Only Shipped order\n",
    "- Resample products with missing dates\n",
    "- Create time series basic features:\n",
    "    - lag\n",
    "    - moving average\n",
    "    - min, max window values\n",
    "    - frequency\n",
    "    - holidays\n",
    "\n",
    "\n",
    "## Future\n",
    "- Group the sales to create new features:\n",
    "    - total sales\n",
    "    - product line sales\n",
    "    - product sales\n",
    "    - country sales\n",
    "    - territory sales\n",
    "    - deal size sales\n",
    "- Create stacking ensemble model using:\n",
    "    - ARIMA\n",
    "    - Prophet\n",
    "    - Random Forest"
   ]
  },
  {
   "cell_type": "code",
   "execution_count": 1,
   "metadata": {},
   "outputs": [],
   "source": [
    "import pandas as pd"
   ]
  },
  {
   "cell_type": "code",
   "execution_count": 178,
   "metadata": {},
   "outputs": [],
   "source": [
    "INDEX_COLUMNS = ['PRODUCTCODE', 'YEAR_MONTH']\n",
    "PREDICT_LAG = 1"
   ]
  },
  {
   "cell_type": "code",
   "execution_count": 148,
   "metadata": {},
   "outputs": [],
   "source": [
    "df = pd.read_csv('../data/raw/sales_data_sample.csv', encoding=\"ISO-8859-1\")"
   ]
  },
  {
   "cell_type": "markdown",
   "metadata": {},
   "source": [
    "### Filters"
   ]
  },
  {
   "cell_type": "code",
   "execution_count": 8,
   "metadata": {},
   "outputs": [],
   "source": [
    "df_filtered = df[df['STATUS'] == 'Shipped'].copy()"
   ]
  },
  {
   "cell_type": "markdown",
   "metadata": {},
   "source": [
    "### Group Sales per product"
   ]
  },
  {
   "cell_type": "code",
   "execution_count": 169,
   "metadata": {},
   "outputs": [],
   "source": [
    "df_filtered['YEAR_MONTH'] = (df_filtered['MONTH_ID'] \n",
    "                                + df_filtered['YEAR_ID'] * 100)\n",
    "df_filtered['YEAR_MONTH'] = pd.to_datetime(df_filtered['YEAR_MONTH'],\n",
    "                                              format='%Y%m')\n",
    "df_filtered['YEAR_MONTH'].value_counts().sort_index()\n",
    "\n",
    "df_groupped = df_filtered.groupby(\n",
    "    INDEX_COLUMNS, as_index=False).agg(qt_sales=('QUANTITYORDERED', 'sum'),\n",
    "                                       vl_sales=('SALES', 'sum'))"
   ]
  },
  {
   "cell_type": "markdown",
   "metadata": {},
   "source": [
    "### Resample"
   ]
  },
  {
   "cell_type": "code",
   "execution_count": 170,
   "metadata": {},
   "outputs": [],
   "source": [
    "all_dates = pd.date_range(start=df_groupped['YEAR_MONTH'].min(),\n",
    "                          end=df_groupped['YEAR_MONTH'].max(), freq='MS'\n",
    ").to_series(name='YEAR_MONTH')\n",
    "all_product = pd.Series(df_groupped['PRODUCTCODE'].unique(), name='PRODUCTCODE')\n",
    "\n",
    "df_resample = pd.merge(all_product, all_dates, how='cross')\n",
    "\n",
    "df_groupped = df_resample.merge(df_groupped, on=INDEX_COLUMNS,\n",
    "                                how='left').fillna(0)"
   ]
  },
  {
   "cell_type": "markdown",
   "metadata": {},
   "source": [
    "### Basic time series features"
   ]
  },
  {
   "attachments": {},
   "cell_type": "markdown",
   "metadata": {},
   "source": [
    "### Lag"
   ]
  },
  {
   "cell_type": "code",
   "execution_count": 172,
   "metadata": {},
   "outputs": [],
   "source": [
    "number_of_lags = 12\n",
    "\n",
    "for lag in range(number_of_lags):\n",
    "    df_groupped[f'qt_sales_lag_{lag+1}'] = df_groupped.groupby('PRODUCTCODE')[\n",
    "        'qt_sales'].shift(lag+1)"
   ]
  },
  {
   "attachments": {},
   "cell_type": "markdown",
   "metadata": {},
   "source": [
    "### Moving Average\n",
    "\n",
    "$MovingAverage = \\frac{1}{k}\\sum_{i=n-k+1}^n{p_i}$\n",
    "\n",
    "Where $p$ represents the observations, $n$ is the number of values in the moving average, and $k$ denotes the initial position of the moving average."
   ]
  },
  {
   "cell_type": "code",
   "execution_count": 179,
   "metadata": {},
   "outputs": [],
   "source": [
    "df_groupped['qt_sales_mavg_3'] = df_groupped.groupby('PRODUCTCODE')[\n",
    "    f'qt_sales_lag_{PREDICT_LAG}'].transform(lambda x: x.rolling(3, 1).mean())\n",
    "df_groupped['qt_sales_mavg_6'] = df_groupped.groupby('PRODUCTCODE')[\n",
    "    f'qt_sales_lag_{PREDICT_LAG}'].transform(lambda x: x.rolling(6, 1).mean())"
   ]
  },
  {
   "cell_type": "code",
   "execution_count": 183,
   "metadata": {},
   "outputs": [],
   "source": [
    "df_groupped.fillna(0, inplace=True)"
   ]
  },
  {
   "cell_type": "code",
   "execution_count": 184,
   "metadata": {},
   "outputs": [],
   "source": [
    "df_groupped.to_parquet('../data/temp/df_model.parquet')"
   ]
  }
 ],
 "metadata": {
  "kernelspec": {
   "display_name": "base",
   "language": "python",
   "name": "python3"
  },
  "language_info": {
   "codemirror_mode": {
    "name": "ipython",
    "version": 3
   },
   "file_extension": ".py",
   "mimetype": "text/x-python",
   "name": "python",
   "nbconvert_exporter": "python",
   "pygments_lexer": "ipython3",
   "version": "3.10.12"
  },
  "orig_nbformat": 4,
  "vscode": {
   "interpreter": {
    "hash": "ad2bdc8ecc057115af97d19610ffacc2b4e99fae6737bb82f5d7fb13d2f2c186"
   }
  }
 },
 "nbformat": 4,
 "nbformat_minor": 2
}
